{
 "cells": [
  {
   "cell_type": "code",
   "execution_count": null,
   "id": "46feb67e",
   "metadata": {},
   "outputs": [
    {
     "name": "stdout",
     "output_type": "stream",
     "text": [
      " * Serving Flask app '__main__'\n",
      " * Debug mode: off\n"
     ]
    },
    {
     "name": "stderr",
     "output_type": "stream",
     "text": [
      "WARNING: This is a development server. Do not use it in a production deployment. Use a production WSGI server instead.\n",
      " * Running on http://127.0.0.1:5000\n",
      "Press CTRL+C to quit\n",
      "127.0.0.1 - - [01/Jun/2024 18:21:40] \"GET / HTTP/1.1\" 200 -\n"
     ]
    }
   ],
   "source": [
    "from flask import Flask, request, render_template\n",
    "import numpy as np\n",
    "import pandas as pd\n",
    "import pickle\n",
    "\n",
    "# Load the model\n",
    "model = pickle.load(open(\"model.pkl\", \"rb\"))\n",
    "\n",
    "app = Flask(__name__)\n",
    "\n",
    "# Function to convert IP address to numeric\n",
    "def ip_to_numeric(ip):\n",
    "    parts = ip.split('.')\n",
    "    return int(parts[0]) * (256**3) + int(parts[1]) * (256**2) + int(parts[2]) * 256 + int(parts[3])\n",
    "\n",
    "@app.route(\"/\")\n",
    "def home():\n",
    "    return render_template(\"index.html\")\n",
    "\n",
    "@app.route(\"/predict\", methods=['POST'])\n",
    "def predict():\n",
    "    try:\n",
    "        # Extract features from request form values\n",
    "        user_id = float(request.form['user_id'])\n",
    "        ip_address = request.form['ip_address']\n",
    "        ip_address_numeric = ip_to_numeric(ip_address)\n",
    "        \n",
    "        # Convert features to a DataFrame with feature names\n",
    "        ff = pd.DataFrame([[user_id, ip_address_numeric]], columns=['User ID', 'IP Address Numeric'])\n",
    "        \n",
    "        # Perform prediction\n",
    "        predictions = model.predict(ff)\n",
    "        \n",
    "        # Extract the prediction result\n",
    "        output = 'Successful' if predictions[0] else 'Unsuccessful'\n",
    "        \n",
    "        return render_template('index.html', prediction_text=\"Login Prediction: {}\".format(output))\n",
    "    except Exception as e:\n",
    "        return render_template('index.html', prediction_text=\"An error occurred during prediction. Please try again later.\")\n",
    "\n",
    "if __name__ == '__main__':\n",
    "    app.run()\n"
   ]
  },
  {
   "cell_type": "code",
   "execution_count": null,
   "id": "eb40bf73",
   "metadata": {},
   "outputs": [],
   "source": []
  }
 ],
 "metadata": {
  "kernelspec": {
   "display_name": "Python 3 (ipykernel)",
   "language": "python",
   "name": "python3"
  },
  "language_info": {
   "codemirror_mode": {
    "name": "ipython",
    "version": 3
   },
   "file_extension": ".py",
   "mimetype": "text/x-python",
   "name": "python",
   "nbconvert_exporter": "python",
   "pygments_lexer": "ipython3",
   "version": "3.11.5"
  }
 },
 "nbformat": 4,
 "nbformat_minor": 5
}
